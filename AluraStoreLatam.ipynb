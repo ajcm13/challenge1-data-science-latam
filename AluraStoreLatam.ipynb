{
  "nbformat": 4,
  "nbformat_minor": 0,
  "metadata": {
    "colab": {
      "provenance": []
    },
    "kernelspec": {
      "name": "python3",
      "display_name": "Python 3"
    },
    "language_info": {
      "name": "python"
    }
  },
  "cells": [
    {
      "cell_type": "markdown",
      "source": [
        "### Importación de datos\n",
        "\n"
      ],
      "metadata": {
        "id": "RhEdWd9YUR6H"
      }
    },
    {
      "cell_type": "code",
      "execution_count": 40,
      "metadata": {
        "colab": {
          "base_uri": "https://localhost:8080/",
          "height": 293
        },
        "id": "T3EvaeQ_INIL",
        "outputId": "a6ef5fac-c39d-4cc3-c0c9-6a2f9f5d51ff"
      },
      "outputs": [
        {
          "output_type": "execute_result",
          "data": {
            "text/plain": [
              "            Producto Categoría del Producto    Precio  Costo de envío  \\\n",
              "0  Asistente virtual           Electrónicos  164300.0          6900.0   \n",
              "1    Mesa de comedor                Muebles  192300.0          8400.0   \n",
              "2      Juego de mesa               Juguetes  209600.0         15900.0   \n",
              "3         Microondas      Electrodomésticos  757500.0         41000.0   \n",
              "4   Silla de oficina                Muebles  335200.0         20200.0   \n",
              "\n",
              "  Fecha de Compra         Vendedor Lugar de Compra  Calificación  \\\n",
              "0      16/01/2021      Pedro Gomez          Bogotá             4   \n",
              "1      18/05/2022  Beatriz Morales        Medellín             1   \n",
              "2      15/03/2021   Juan Fernandez       Cartagena             1   \n",
              "3      03/05/2022   Juan Fernandez            Cali             4   \n",
              "4      07/11/2020    Maria Alfonso        Medellín             5   \n",
              "\n",
              "       Método de pago  Cantidad de cuotas       lat       lon  \n",
              "0  Tarjeta de crédito                   8   4.60971 -74.08175  \n",
              "1  Tarjeta de crédito                   4   6.25184 -75.56359  \n",
              "2  Tarjeta de crédito                   1  10.39972 -75.51444  \n",
              "3               Nequi                   1   3.43722 -76.52250  \n",
              "4               Nequi                   1   6.25184 -75.56359  "
            ],
            "text/html": [
              "\n",
              "  <div id=\"df-22927af7-51d8-41b9-87d1-843695462555\" class=\"colab-df-container\">\n",
              "    <div>\n",
              "<style scoped>\n",
              "    .dataframe tbody tr th:only-of-type {\n",
              "        vertical-align: middle;\n",
              "    }\n",
              "\n",
              "    .dataframe tbody tr th {\n",
              "        vertical-align: top;\n",
              "    }\n",
              "\n",
              "    .dataframe thead th {\n",
              "        text-align: right;\n",
              "    }\n",
              "</style>\n",
              "<table border=\"1\" class=\"dataframe\">\n",
              "  <thead>\n",
              "    <tr style=\"text-align: right;\">\n",
              "      <th></th>\n",
              "      <th>Producto</th>\n",
              "      <th>Categoría del Producto</th>\n",
              "      <th>Precio</th>\n",
              "      <th>Costo de envío</th>\n",
              "      <th>Fecha de Compra</th>\n",
              "      <th>Vendedor</th>\n",
              "      <th>Lugar de Compra</th>\n",
              "      <th>Calificación</th>\n",
              "      <th>Método de pago</th>\n",
              "      <th>Cantidad de cuotas</th>\n",
              "      <th>lat</th>\n",
              "      <th>lon</th>\n",
              "    </tr>\n",
              "  </thead>\n",
              "  <tbody>\n",
              "    <tr>\n",
              "      <th>0</th>\n",
              "      <td>Asistente virtual</td>\n",
              "      <td>Electrónicos</td>\n",
              "      <td>164300.0</td>\n",
              "      <td>6900.0</td>\n",
              "      <td>16/01/2021</td>\n",
              "      <td>Pedro Gomez</td>\n",
              "      <td>Bogotá</td>\n",
              "      <td>4</td>\n",
              "      <td>Tarjeta de crédito</td>\n",
              "      <td>8</td>\n",
              "      <td>4.60971</td>\n",
              "      <td>-74.08175</td>\n",
              "    </tr>\n",
              "    <tr>\n",
              "      <th>1</th>\n",
              "      <td>Mesa de comedor</td>\n",
              "      <td>Muebles</td>\n",
              "      <td>192300.0</td>\n",
              "      <td>8400.0</td>\n",
              "      <td>18/05/2022</td>\n",
              "      <td>Beatriz Morales</td>\n",
              "      <td>Medellín</td>\n",
              "      <td>1</td>\n",
              "      <td>Tarjeta de crédito</td>\n",
              "      <td>4</td>\n",
              "      <td>6.25184</td>\n",
              "      <td>-75.56359</td>\n",
              "    </tr>\n",
              "    <tr>\n",
              "      <th>2</th>\n",
              "      <td>Juego de mesa</td>\n",
              "      <td>Juguetes</td>\n",
              "      <td>209600.0</td>\n",
              "      <td>15900.0</td>\n",
              "      <td>15/03/2021</td>\n",
              "      <td>Juan Fernandez</td>\n",
              "      <td>Cartagena</td>\n",
              "      <td>1</td>\n",
              "      <td>Tarjeta de crédito</td>\n",
              "      <td>1</td>\n",
              "      <td>10.39972</td>\n",
              "      <td>-75.51444</td>\n",
              "    </tr>\n",
              "    <tr>\n",
              "      <th>3</th>\n",
              "      <td>Microondas</td>\n",
              "      <td>Electrodomésticos</td>\n",
              "      <td>757500.0</td>\n",
              "      <td>41000.0</td>\n",
              "      <td>03/05/2022</td>\n",
              "      <td>Juan Fernandez</td>\n",
              "      <td>Cali</td>\n",
              "      <td>4</td>\n",
              "      <td>Nequi</td>\n",
              "      <td>1</td>\n",
              "      <td>3.43722</td>\n",
              "      <td>-76.52250</td>\n",
              "    </tr>\n",
              "    <tr>\n",
              "      <th>4</th>\n",
              "      <td>Silla de oficina</td>\n",
              "      <td>Muebles</td>\n",
              "      <td>335200.0</td>\n",
              "      <td>20200.0</td>\n",
              "      <td>07/11/2020</td>\n",
              "      <td>Maria Alfonso</td>\n",
              "      <td>Medellín</td>\n",
              "      <td>5</td>\n",
              "      <td>Nequi</td>\n",
              "      <td>1</td>\n",
              "      <td>6.25184</td>\n",
              "      <td>-75.56359</td>\n",
              "    </tr>\n",
              "  </tbody>\n",
              "</table>\n",
              "</div>\n",
              "    <div class=\"colab-df-buttons\">\n",
              "\n",
              "  <div class=\"colab-df-container\">\n",
              "    <button class=\"colab-df-convert\" onclick=\"convertToInteractive('df-22927af7-51d8-41b9-87d1-843695462555')\"\n",
              "            title=\"Convert this dataframe to an interactive table.\"\n",
              "            style=\"display:none;\">\n",
              "\n",
              "  <svg xmlns=\"http://www.w3.org/2000/svg\" height=\"24px\" viewBox=\"0 -960 960 960\">\n",
              "    <path d=\"M120-120v-720h720v720H120Zm60-500h600v-160H180v160Zm220 220h160v-160H400v160Zm0 220h160v-160H400v160ZM180-400h160v-160H180v160Zm440 0h160v-160H620v160ZM180-180h160v-160H180v160Zm440 0h160v-160H620v160Z\"/>\n",
              "  </svg>\n",
              "    </button>\n",
              "\n",
              "  <style>\n",
              "    .colab-df-container {\n",
              "      display:flex;\n",
              "      gap: 12px;\n",
              "    }\n",
              "\n",
              "    .colab-df-convert {\n",
              "      background-color: #E8F0FE;\n",
              "      border: none;\n",
              "      border-radius: 50%;\n",
              "      cursor: pointer;\n",
              "      display: none;\n",
              "      fill: #1967D2;\n",
              "      height: 32px;\n",
              "      padding: 0 0 0 0;\n",
              "      width: 32px;\n",
              "    }\n",
              "\n",
              "    .colab-df-convert:hover {\n",
              "      background-color: #E2EBFA;\n",
              "      box-shadow: 0px 1px 2px rgba(60, 64, 67, 0.3), 0px 1px 3px 1px rgba(60, 64, 67, 0.15);\n",
              "      fill: #174EA6;\n",
              "    }\n",
              "\n",
              "    .colab-df-buttons div {\n",
              "      margin-bottom: 4px;\n",
              "    }\n",
              "\n",
              "    [theme=dark] .colab-df-convert {\n",
              "      background-color: #3B4455;\n",
              "      fill: #D2E3FC;\n",
              "    }\n",
              "\n",
              "    [theme=dark] .colab-df-convert:hover {\n",
              "      background-color: #434B5C;\n",
              "      box-shadow: 0px 1px 3px 1px rgba(0, 0, 0, 0.15);\n",
              "      filter: drop-shadow(0px 1px 2px rgba(0, 0, 0, 0.3));\n",
              "      fill: #FFFFFF;\n",
              "    }\n",
              "  </style>\n",
              "\n",
              "    <script>\n",
              "      const buttonEl =\n",
              "        document.querySelector('#df-22927af7-51d8-41b9-87d1-843695462555 button.colab-df-convert');\n",
              "      buttonEl.style.display =\n",
              "        google.colab.kernel.accessAllowed ? 'block' : 'none';\n",
              "\n",
              "      async function convertToInteractive(key) {\n",
              "        const element = document.querySelector('#df-22927af7-51d8-41b9-87d1-843695462555');\n",
              "        const dataTable =\n",
              "          await google.colab.kernel.invokeFunction('convertToInteractive',\n",
              "                                                    [key], {});\n",
              "        if (!dataTable) return;\n",
              "\n",
              "        const docLinkHtml = 'Like what you see? Visit the ' +\n",
              "          '<a target=\"_blank\" href=https://colab.research.google.com/notebooks/data_table.ipynb>data table notebook</a>'\n",
              "          + ' to learn more about interactive tables.';\n",
              "        element.innerHTML = '';\n",
              "        dataTable['output_type'] = 'display_data';\n",
              "        await google.colab.output.renderOutput(dataTable, element);\n",
              "        const docLink = document.createElement('div');\n",
              "        docLink.innerHTML = docLinkHtml;\n",
              "        element.appendChild(docLink);\n",
              "      }\n",
              "    </script>\n",
              "  </div>\n",
              "\n",
              "\n",
              "<div id=\"df-d3eee209-7875-455b-b433-b5c21aeb7d89\">\n",
              "  <button class=\"colab-df-quickchart\" onclick=\"quickchart('df-d3eee209-7875-455b-b433-b5c21aeb7d89')\"\n",
              "            title=\"Suggest charts\"\n",
              "            style=\"display:none;\">\n",
              "\n",
              "<svg xmlns=\"http://www.w3.org/2000/svg\" height=\"24px\"viewBox=\"0 0 24 24\"\n",
              "     width=\"24px\">\n",
              "    <g>\n",
              "        <path d=\"M19 3H5c-1.1 0-2 .9-2 2v14c0 1.1.9 2 2 2h14c1.1 0 2-.9 2-2V5c0-1.1-.9-2-2-2zM9 17H7v-7h2v7zm4 0h-2V7h2v10zm4 0h-2v-4h2v4z\"/>\n",
              "    </g>\n",
              "</svg>\n",
              "  </button>\n",
              "\n",
              "<style>\n",
              "  .colab-df-quickchart {\n",
              "      --bg-color: #E8F0FE;\n",
              "      --fill-color: #1967D2;\n",
              "      --hover-bg-color: #E2EBFA;\n",
              "      --hover-fill-color: #174EA6;\n",
              "      --disabled-fill-color: #AAA;\n",
              "      --disabled-bg-color: #DDD;\n",
              "  }\n",
              "\n",
              "  [theme=dark] .colab-df-quickchart {\n",
              "      --bg-color: #3B4455;\n",
              "      --fill-color: #D2E3FC;\n",
              "      --hover-bg-color: #434B5C;\n",
              "      --hover-fill-color: #FFFFFF;\n",
              "      --disabled-bg-color: #3B4455;\n",
              "      --disabled-fill-color: #666;\n",
              "  }\n",
              "\n",
              "  .colab-df-quickchart {\n",
              "    background-color: var(--bg-color);\n",
              "    border: none;\n",
              "    border-radius: 50%;\n",
              "    cursor: pointer;\n",
              "    display: none;\n",
              "    fill: var(--fill-color);\n",
              "    height: 32px;\n",
              "    padding: 0;\n",
              "    width: 32px;\n",
              "  }\n",
              "\n",
              "  .colab-df-quickchart:hover {\n",
              "    background-color: var(--hover-bg-color);\n",
              "    box-shadow: 0 1px 2px rgba(60, 64, 67, 0.3), 0 1px 3px 1px rgba(60, 64, 67, 0.15);\n",
              "    fill: var(--button-hover-fill-color);\n",
              "  }\n",
              "\n",
              "  .colab-df-quickchart-complete:disabled,\n",
              "  .colab-df-quickchart-complete:disabled:hover {\n",
              "    background-color: var(--disabled-bg-color);\n",
              "    fill: var(--disabled-fill-color);\n",
              "    box-shadow: none;\n",
              "  }\n",
              "\n",
              "  .colab-df-spinner {\n",
              "    border: 2px solid var(--fill-color);\n",
              "    border-color: transparent;\n",
              "    border-bottom-color: var(--fill-color);\n",
              "    animation:\n",
              "      spin 1s steps(1) infinite;\n",
              "  }\n",
              "\n",
              "  @keyframes spin {\n",
              "    0% {\n",
              "      border-color: transparent;\n",
              "      border-bottom-color: var(--fill-color);\n",
              "      border-left-color: var(--fill-color);\n",
              "    }\n",
              "    20% {\n",
              "      border-color: transparent;\n",
              "      border-left-color: var(--fill-color);\n",
              "      border-top-color: var(--fill-color);\n",
              "    }\n",
              "    30% {\n",
              "      border-color: transparent;\n",
              "      border-left-color: var(--fill-color);\n",
              "      border-top-color: var(--fill-color);\n",
              "      border-right-color: var(--fill-color);\n",
              "    }\n",
              "    40% {\n",
              "      border-color: transparent;\n",
              "      border-right-color: var(--fill-color);\n",
              "      border-top-color: var(--fill-color);\n",
              "    }\n",
              "    60% {\n",
              "      border-color: transparent;\n",
              "      border-right-color: var(--fill-color);\n",
              "    }\n",
              "    80% {\n",
              "      border-color: transparent;\n",
              "      border-right-color: var(--fill-color);\n",
              "      border-bottom-color: var(--fill-color);\n",
              "    }\n",
              "    90% {\n",
              "      border-color: transparent;\n",
              "      border-bottom-color: var(--fill-color);\n",
              "    }\n",
              "  }\n",
              "</style>\n",
              "\n",
              "  <script>\n",
              "    async function quickchart(key) {\n",
              "      const quickchartButtonEl =\n",
              "        document.querySelector('#' + key + ' button');\n",
              "      quickchartButtonEl.disabled = true;  // To prevent multiple clicks.\n",
              "      quickchartButtonEl.classList.add('colab-df-spinner');\n",
              "      try {\n",
              "        const charts = await google.colab.kernel.invokeFunction(\n",
              "            'suggestCharts', [key], {});\n",
              "      } catch (error) {\n",
              "        console.error('Error during call to suggestCharts:', error);\n",
              "      }\n",
              "      quickchartButtonEl.classList.remove('colab-df-spinner');\n",
              "      quickchartButtonEl.classList.add('colab-df-quickchart-complete');\n",
              "    }\n",
              "    (() => {\n",
              "      let quickchartButtonEl =\n",
              "        document.querySelector('#df-d3eee209-7875-455b-b433-b5c21aeb7d89 button');\n",
              "      quickchartButtonEl.style.display =\n",
              "        google.colab.kernel.accessAllowed ? 'block' : 'none';\n",
              "    })();\n",
              "  </script>\n",
              "</div>\n",
              "\n",
              "    </div>\n",
              "  </div>\n"
            ],
            "application/vnd.google.colaboratory.intrinsic+json": {
              "type": "dataframe",
              "variable_name": "tienda",
              "summary": "{\n  \"name\": \"tienda\",\n  \"rows\": 2359,\n  \"fields\": [\n    {\n      \"column\": \"Producto\",\n      \"properties\": {\n        \"dtype\": \"category\",\n        \"num_unique_values\": 51,\n        \"samples\": [\n          \"Guitarra ac\\u00fastica\",\n          \"Bal\\u00f3n de baloncesto\",\n          \"Smartwatch\"\n        ],\n        \"semantic_type\": \"\",\n        \"description\": \"\"\n      }\n    },\n    {\n      \"column\": \"Categor\\u00eda del Producto\",\n      \"properties\": {\n        \"dtype\": \"category\",\n        \"num_unique_values\": 8,\n        \"samples\": [\n          \"Muebles\",\n          \"Deportes y diversi\\u00f3n\",\n          \"Electr\\u00f3nicos\"\n        ],\n        \"semantic_type\": \"\",\n        \"description\": \"\"\n      }\n    },\n    {\n      \"column\": \"Precio\",\n      \"properties\": {\n        \"dtype\": \"number\",\n        \"std\": 614686.7653873172,\n        \"min\": 7600.0,\n        \"max\": 2977000.0,\n        \"num_unique_values\": 1937,\n        \"samples\": [\n          2499400.0,\n          14800.0,\n          80500.0\n        ],\n        \"semantic_type\": \"\",\n        \"description\": \"\"\n      }\n    },\n    {\n      \"column\": \"Costo de env\\u00edo\",\n      \"properties\": {\n        \"dtype\": \"number\",\n        \"std\": 32860.0017825605,\n        \"min\": 0.0,\n        \"max\": 160800.0,\n        \"num_unique_values\": 753,\n        \"samples\": [\n          117800.0,\n          54700.0,\n          45600.0\n        ],\n        \"semantic_type\": \"\",\n        \"description\": \"\"\n      }\n    },\n    {\n      \"column\": \"Fecha de Compra\",\n      \"properties\": {\n        \"dtype\": \"object\",\n        \"num_unique_values\": 1018,\n        \"samples\": [\n          \"15/09/2022\",\n          \"03/06/2020\",\n          \"06/11/2021\"\n        ],\n        \"semantic_type\": \"\",\n        \"description\": \"\"\n      }\n    },\n    {\n      \"column\": \"Vendedor\",\n      \"properties\": {\n        \"dtype\": \"category\",\n        \"num_unique_values\": 14,\n        \"samples\": [\n          \"Juliana Costa\",\n          \"Mariana Herrera\",\n          \"Pedro Gomez\"\n        ],\n        \"semantic_type\": \"\",\n        \"description\": \"\"\n      }\n    },\n    {\n      \"column\": \"Lugar de Compra\",\n      \"properties\": {\n        \"dtype\": \"category\",\n        \"num_unique_values\": 19,\n        \"samples\": [\n          \"Bogot\\u00e1\",\n          \"Pereira\",\n          \"Neiva\"\n        ],\n        \"semantic_type\": \"\",\n        \"description\": \"\"\n      }\n    },\n    {\n      \"column\": \"Calificaci\\u00f3n\",\n      \"properties\": {\n        \"dtype\": \"number\",\n        \"std\": 1,\n        \"min\": 1,\n        \"max\": 5,\n        \"num_unique_values\": 5,\n        \"samples\": [\n          1,\n          2,\n          5\n        ],\n        \"semantic_type\": \"\",\n        \"description\": \"\"\n      }\n    },\n    {\n      \"column\": \"M\\u00e9todo de pago\",\n      \"properties\": {\n        \"dtype\": \"category\",\n        \"num_unique_values\": 4,\n        \"samples\": [\n          \"Nequi\",\n          \"Tarjeta de d\\u00e9bito\",\n          \"Tarjeta de cr\\u00e9dito\"\n        ],\n        \"semantic_type\": \"\",\n        \"description\": \"\"\n      }\n    },\n    {\n      \"column\": \"Cantidad de cuotas\",\n      \"properties\": {\n        \"dtype\": \"number\",\n        \"std\": 2,\n        \"min\": 1,\n        \"max\": 24,\n        \"num_unique_values\": 15,\n        \"samples\": [\n          7,\n          14,\n          8\n        ],\n        \"semantic_type\": \"\",\n        \"description\": \"\"\n      }\n    },\n    {\n      \"column\": \"lat\",\n      \"properties\": {\n        \"dtype\": \"number\",\n        \"std\": 2.2874452492678627,\n        \"min\": -4.21528,\n        \"max\": 11.54444,\n        \"num_unique_values\": 19,\n        \"samples\": [\n          4.60971,\n          4.81333,\n          2.9273\n        ],\n        \"semantic_type\": \"\",\n        \"description\": \"\"\n      }\n    },\n    {\n      \"column\": \"lon\",\n      \"properties\": {\n        \"dtype\": \"number\",\n        \"std\": 1.2178272727088486,\n        \"min\": -77.28111,\n        \"max\": -67.9239,\n        \"num_unique_values\": 19,\n        \"samples\": [\n          -74.08175,\n          -75.69611,\n          -75.28189\n        ],\n        \"semantic_type\": \"\",\n        \"description\": \"\"\n      }\n    }\n  ]\n}"
            }
          },
          "metadata": {},
          "execution_count": 40
        }
      ],
      "source": [
        "import pandas as pd\n",
        "#from sklearn.preprocessing import MinMaxScaler # Import the MinMaxScaler\n",
        "\n",
        "\n",
        "url = \"https://raw.githubusercontent.com/alura-es-cursos/challenge1-data-science-latam/refs/heads/main/base-de-datos-challenge1-latam/tienda_1%20.csv\"\n",
        "url2 = \"https://raw.githubusercontent.com/alura-es-cursos/challenge1-data-science-latam/refs/heads/main/base-de-datos-challenge1-latam/tienda_2.csv\"\n",
        "url3 = \"https://raw.githubusercontent.com/alura-es-cursos/challenge1-data-science-latam/refs/heads/main/base-de-datos-challenge1-latam/tienda_3.csv\"\n",
        "url4 = \"https://raw.githubusercontent.com/alura-es-cursos/challenge1-data-science-latam/refs/heads/main/base-de-datos-challenge1-latam/tienda_4.csv\"\n",
        "\n",
        "tienda = pd.read_csv(url)\n",
        "tienda2 = pd.read_csv(url2)\n",
        "tienda3 = pd.read_csv(url3)\n",
        "tienda4 = pd.read_csv(url4)\n",
        "\n",
        "tienda.head()"
      ]
    },
    {
      "cell_type": "markdown",
      "source": [
        "#1. Análisis de facturación\n",
        "\n"
      ],
      "metadata": {
        "id": "X62IW3KFUIYm"
      }
    },
    {
      "cell_type": "code",
      "source": [
        "# Calcular ingresos totales por tienda\n",
        "ingreso_tienda = tienda['Precio'].sum()\n",
        "ingreso_tienda2 = tienda2['Precio'].sum()\n",
        "ingreso_tienda3 = tienda3['Precio'].sum()\n",
        "ingreso_tienda4 = tienda4['Precio'].sum()\n",
        "\n",
        "# Mostrar los ingresos\n",
        "print(f\"Ingreso total tienda 1: ${int(ingreso_tienda):,}\".replace(\",\", \".\"))\n",
        "print(f\"Ingreso total tienda 2: ${int(ingreso_tienda2):,}\".replace(\",\", \".\"))\n",
        "print(f\"Ingreso total tienda 3: ${int(ingreso_tienda3):,}\".replace(\",\", \".\"))\n",
        "print(f\"Ingreso total tienda 4: ${int(ingreso_tienda4):,}\".replace(\",\", \".\"))\n",
        "\n"
      ],
      "metadata": {
        "id": "KDyr8E71V3m-",
        "colab": {
          "base_uri": "https://localhost:8080/"
        },
        "outputId": "cc06320e-205a-4ae1-9ef0-8de5c25c6057"
      },
      "execution_count": 41,
      "outputs": [
        {
          "output_type": "stream",
          "name": "stdout",
          "text": [
            "Ingreso total tienda 1: $1.150.880.400\n",
            "Ingreso total tienda 2: $1.116.343.500\n",
            "Ingreso total tienda 3: $1.098.019.600\n",
            "Ingreso total tienda 4: $1.038.375.700\n"
          ]
        }
      ]
    },
    {
      "cell_type": "markdown",
      "source": [
        "# 2. Ventas por categoría"
      ],
      "metadata": {
        "id": "2V_vcAPzWZmR"
      }
    },
    {
      "cell_type": "code",
      "source": [
        "productos_categoria_tienda1 = tienda.groupby('Categoría del Producto').size().reset_index(name='Cantidad de ventas').sort_values(by='Cantidad de ventas', ascending=False)\n",
        "productos_categoria_tienda2 = tienda2.groupby('Categoría del Producto').size().reset_index(name='Cantidad de ventas').sort_values(by='Cantidad de ventas', ascending=False)\n",
        "productos_categoria_tienda3 = tienda3.groupby('Categoría del Producto').size().reset_index(name='Cantidad de ventas').sort_values(by='Cantidad de ventas', ascending=False)\n",
        "productos_categoria_tienda4 = tienda4.groupby('Categoría del Producto').size().reset_index(name='Cantidad de ventas').sort_values(by='Cantidad de ventas', ascending=False)\n",
        "\n",
        "# Mostrar las categorías más populares de cada tienda\n",
        "print(\"Categorías más populares tienda 1:\")\n",
        "print(productos_categoria_tienda1)\n",
        "\n",
        "print(\"\\nCategorías más populares tienda 2:\")\n",
        "print(productos_categoria_tienda2)\n",
        "\n",
        "print(\"\\nCategorías más populares tienda 3:\")\n",
        "print(productos_categoria_tienda3)\n",
        "\n",
        "print(\"\\nCategorías más populares tienda 4:\")\n",
        "print(productos_categoria_tienda4)"
      ],
      "metadata": {
        "colab": {
          "base_uri": "https://localhost:8080/"
        },
        "id": "x-6THTFdfJBZ",
        "outputId": "311ace69-038d-49d6-f15c-d245d93178f2"
      },
      "execution_count": 42,
      "outputs": [
        {
          "output_type": "stream",
          "name": "stdout",
          "text": [
            "Categorías más populares tienda 1:\n",
            "    Categoría del Producto  Cantidad de ventas\n",
            "7                  Muebles                 465\n",
            "3             Electrónicos                 448\n",
            "5                 Juguetes                 324\n",
            "2        Electrodomésticos                 312\n",
            "1     Deportes y diversión                 284\n",
            "4   Instrumentos musicales                 182\n",
            "6                   Libros                 173\n",
            "0  Artículos para el hogar                 171\n",
            "\n",
            "Categorías más populares tienda 2:\n",
            "    Categoría del Producto  Cantidad de ventas\n",
            "7                  Muebles                 442\n",
            "3             Electrónicos                 422\n",
            "5                 Juguetes                 313\n",
            "2        Electrodomésticos                 305\n",
            "1     Deportes y diversión                 275\n",
            "4   Instrumentos musicales                 224\n",
            "6                   Libros                 197\n",
            "0  Artículos para el hogar                 181\n",
            "\n",
            "Categorías más populares tienda 3:\n",
            "    Categoría del Producto  Cantidad de ventas\n",
            "7                  Muebles                 499\n",
            "3             Electrónicos                 451\n",
            "5                 Juguetes                 315\n",
            "2        Electrodomésticos                 278\n",
            "1     Deportes y diversión                 277\n",
            "6                   Libros                 185\n",
            "0  Artículos para el hogar                 177\n",
            "4   Instrumentos musicales                 177\n",
            "\n",
            "Categorías más populares tienda 4:\n",
            "    Categoría del Producto  Cantidad de ventas\n",
            "7                  Muebles                 480\n",
            "3             Electrónicos                 451\n",
            "5                 Juguetes                 338\n",
            "1     Deportes y diversión                 277\n",
            "2        Electrodomésticos                 254\n",
            "0  Artículos para el hogar                 201\n",
            "6                   Libros                 187\n",
            "4   Instrumentos musicales                 170\n"
          ]
        }
      ]
    },
    {
      "cell_type": "markdown",
      "source": [
        "# 3. Calificación promedio de la tienda\n"
      ],
      "metadata": {
        "id": "Rq6tU_xSY3jk"
      }
    },
    {
      "cell_type": "code",
      "source": [
        "# Calcular la calificación promedio de cada tienda\n",
        "calificacion_promedio_tienda1 = tienda['Calificación'].mean()\n",
        "calificacion_promedio_tienda2 = tienda2['Calificación'].mean()\n",
        "calificacion_promedio_tienda3 = tienda3['Calificación'].mean()\n",
        "calificacion_promedio_tienda4 = tienda4['Calificación'].mean()\n",
        "\n",
        "# Mostrar las calificaciones promedio\n",
        "print(f\"Calificación promedio tienda 1: {calificacion_promedio_tienda1:.2f}\")\n",
        "print(f\"Calificación promedio tienda 2: {calificacion_promedio_tienda2:.2f}\")\n",
        "print(f\"Calificación promedio tienda 3: {calificacion_promedio_tienda3:.2f}\")\n",
        "print(f\"Calificación promedio tienda 4: {calificacion_promedio_tienda4:.2f}\")"
      ],
      "metadata": {
        "id": "bh3jjjJwY5MU",
        "colab": {
          "base_uri": "https://localhost:8080/"
        },
        "outputId": "f6fc4b4f-3cd0-441e-cf64-883007d0262c"
      },
      "execution_count": 43,
      "outputs": [
        {
          "output_type": "stream",
          "name": "stdout",
          "text": [
            "Calificación promedio tienda 1: 3.98\n",
            "Calificación promedio tienda 2: 4.04\n",
            "Calificación promedio tienda 3: 4.05\n",
            "Calificación promedio tienda 4: 4.00\n"
          ]
        }
      ]
    },
    {
      "cell_type": "markdown",
      "source": [
        "# 4. Productos más y menos vendidos"
      ],
      "metadata": {
        "id": "DmNp1KPBZCm-"
      }
    },
    {
      "cell_type": "code",
      "source": [
        "import matplotlib.pyplot as plt\n",
        "\n",
        "# Agrupar por 'Producto' y contar la cantidad de veces que cada producto se vendió\n",
        "ventas_producto_tienda1 = tienda.groupby('Producto').size().reset_index(name='Cantidad de ventas').sort_values(by='Cantidad de ventas', ascending=False)\n",
        "ventas_producto_tienda2 = tienda2.groupby('Producto').size().reset_index(name='Cantidad de ventas').sort_values(by='Cantidad de ventas', ascending=False)\n",
        "ventas_producto_tienda3 = tienda3.groupby('Producto').size().reset_index(name='Cantidad de ventas').sort_values(by='Cantidad de ventas', ascending=False)\n",
        "ventas_producto_tienda4 = tienda4.groupby('Producto').size().reset_index(name='Cantidad de ventas').sort_values(by='Cantidad de ventas', ascending=False)\n",
        "\n",
        "# Mostrar los productos más y menos vendidos\n",
        "print(\"Productos más vendidos tienda 1:\")\n",
        "print(ventas_producto_tienda1.head(1))  # Mostrar los 10 más vendidos\n",
        "\n",
        "print(\"\\nProductos menos vendidos tienda 1:\")\n",
        "print(ventas_producto_tienda1.tail(1))  # Mostrar los 10 menos vendidos\n",
        "\n",
        "print(\"\\nProductos más vendidos tienda 2:\")\n",
        "print(ventas_producto_tienda2.head(1))  # Mostrar los 10 más vendidos\n",
        "\n",
        "print(\"\\nProductos menos vendidos tienda 2:\")\n",
        "print(ventas_producto_tienda2.tail(1))  # Mostrar los 10 menos vendidos\n",
        "\n",
        "print(\"\\nProductos más vendidos tienda 3:\")\n",
        "print(ventas_producto_tienda3.head(1))  # Mostrar los 10 más vendidos\n",
        "\n",
        "print(\"\\nProductos menos vendidos tienda 3:\")\n",
        "print(ventas_producto_tienda3.tail(1))\n",
        "\n",
        "print(\"\\nProductos más vendidos tienda 4:\")\n",
        "print(ventas_producto_tienda4.head(1))  # Mostrar los 10 más vendidos\n",
        "\n",
        "print(\"\\nProductos menos vendidos tienda 4:\")\n",
        "print(ventas_producto_tienda4.tail(1))\n",
        "\n"
      ],
      "metadata": {
        "id": "qoyjqijQZHfF",
        "colab": {
          "base_uri": "https://localhost:8080/"
        },
        "outputId": "1e39c9a5-9b47-4e21-d500-864e0a834213"
      },
      "execution_count": 44,
      "outputs": [
        {
          "output_type": "stream",
          "name": "stdout",
          "text": [
            "Productos más vendidos tienda 1:\n",
            "  Producto  Cantidad de ventas\n",
            "1  Armario                  60\n",
            "\n",
            "Productos menos vendidos tienda 1:\n",
            "                    Producto  Cantidad de ventas\n",
            "4  Auriculares con micrófono                  33\n",
            "\n",
            "Productos más vendidos tienda 2:\n",
            "                     Producto  Cantidad de ventas\n",
            "24  Iniciando en programación                  65\n",
            "\n",
            "Productos menos vendidos tienda 2:\n",
            "         Producto  Cantidad de ventas\n",
            "26  Juego de mesa                  32\n",
            "\n",
            "Productos más vendidos tienda 3:\n",
            "         Producto  Cantidad de ventas\n",
            "27  Kit de bancas                  57\n",
            "\n",
            "Productos menos vendidos tienda 3:\n",
            "                  Producto  Cantidad de ventas\n",
            "9  Bloques de construcción                  35\n",
            "\n",
            "Productos más vendidos tienda 4:\n",
            "    Producto  Cantidad de ventas\n",
            "10  Cama box                  62\n",
            "\n",
            "Productos menos vendidos tienda 4:\n",
            "              Producto  Cantidad de ventas\n",
            "22  Guitarra eléctrica                  33\n"
          ]
        }
      ]
    },
    {
      "cell_type": "markdown",
      "source": [
        "# 5. Envío promedio por tienda"
      ],
      "metadata": {
        "id": "Fl0cGi3bZKqU"
      }
    },
    {
      "cell_type": "code",
      "source": [
        "# Calcular el costo de envío promedio para cada tienda\n",
        "costo_envio_promedio_tienda1 = tienda['Costo de envío'].mean()\n",
        "costo_envio_promedio_tienda2 = tienda2['Costo de envío'].mean()\n",
        "costo_envio_promedio_tienda3 = tienda3['Costo de envío'].mean()\n",
        "costo_envio_promedio_tienda4 = tienda4['Costo de envío'].mean()\n",
        "\n",
        "# Mostrar los resultados\n",
        "print(f\"Costo de envío promedio tienda 1: ${int(costo_envio_promedio_tienda1):,}\".replace(\",\", \".\"))\n",
        "print(f\"Costo de envío promedio tienda 2: ${int(costo_envio_promedio_tienda2):,}\".replace(\",\", \".\"))\n",
        "print(f\"Costo de envío promedio tienda 3: ${int(costo_envio_promedio_tienda3):,}\".replace(\",\", \".\"))\n",
        "print(f\"Costo de envío promedio tienda 4: ${int(costo_envio_promedio_tienda4):,}\".replace(\",\", \".\"))\n",
        "\n"
      ],
      "metadata": {
        "id": "S2JeaCykZNy9",
        "colab": {
          "base_uri": "https://localhost:8080/"
        },
        "outputId": "aeddb0d6-a4ed-41b8-f1ff-04fb393c08d5"
      },
      "execution_count": 45,
      "outputs": [
        {
          "output_type": "stream",
          "name": "stdout",
          "text": [
            "Costo de envío promedio tienda 1: $26.018\n",
            "Costo de envío promedio tienda 2: $25.216\n",
            "Costo de envío promedio tienda 3: $24.805\n",
            "Costo de envío promedio tienda 4: $23.459\n"
          ]
        }
      ]
    },
    {
      "cell_type": "markdown",
      "source": [
        "#Graficos"
      ],
      "metadata": {
        "id": "EX7HQcqFpg2p"
      }
    },
    {
      "cell_type": "markdown",
      "source": [
        "###Ingresos Totales por Tienda"
      ],
      "metadata": {
        "id": "ndsqGz6-ptBB"
      }
    },
    {
      "cell_type": "code",
      "source": [
        "import matplotlib.pyplot as plt\n",
        "\n",
        "# Calcular los ingresos totales de cada tienda\n",
        "ingresos_tienda1 = tienda['Precio'].sum()\n",
        "ingresos_tienda2 = tienda2['Precio'].sum()\n",
        "ingresos_tienda3 = tienda3['Precio'].sum()\n",
        "ingresos_tienda4 = tienda4['Precio'].sum()\n",
        "\n",
        "# Crear gráfico de barras para los ingresos\n",
        "tiendas = ['Tienda 1', 'Tienda 2', 'Tienda 3', 'Tienda 4']\n",
        "ingresos = [ingresos_tienda1, ingresos_tienda2, ingresos_tienda3, ingresos_tienda4]\n",
        "\n",
        "plt.figure(figsize=(8, 6))\n",
        "barras = plt.bar(tiendas, ingresos, color='lightblue')\n",
        "plt.title('Ingresos Totales por Tienda')\n",
        "plt.xlabel('Tienda')\n",
        "plt.ylabel('Ingresos ($)')\n",
        "plt.xticks(rotation=45)\n",
        "\n",
        "# Mostrar valores encima de cada barra\n",
        "for barra in barras:\n",
        "    y = barra.get_height()\n",
        "    plt.text(barra.get_x() + barra.get_width()/2, y + y*0.01, f'${y:,.2f}', ha='center', va='bottom')\n",
        "\n",
        "plt.tight_layout()\n",
        "plt.show()\n"
      ],
      "metadata": {
        "colab": {
          "base_uri": "https://localhost:8080/",
          "height": 607
        },
        "id": "IsTtiCmuiayr",
        "outputId": "2575cba7-385c-44cf-d434-b44310e1b159"
      },
      "execution_count": 46,
      "outputs": [
        {
          "output_type": "display_data",
          "data": {
            "text/plain": [
              "<Figure size 800x600 with 1 Axes>"
            ],
            "image/png": "[encoded data removed]"
          },
          "metadata": {}
        }
      ]
    },
    {
      "cell_type": "markdown",
      "source": [
        "###Costo de Envío vs Calificación Promedio por Tienda"
      ],
      "metadata": {
        "id": "nsONUBIVqIr1"
      }
    },
    {
      "cell_type": "code",
      "source": [
        "# Calcular costo de envío promedio y calificación promedio\n",
        "costo_envio_promedio_tienda1 = tienda['Costo de envío'].mean()\n",
        "costo_envio_promedio_tienda2 = tienda2['Costo de envío'].mean()\n",
        "costo_envio_promedio_tienda3 = tienda3['Costo de envío'].mean()\n",
        "costo_envio_promedio_tienda4 = tienda4['Costo de envío'].mean()\n",
        "\n",
        "calificacion_promedio_tienda1 = tienda['Calificación'].mean()\n",
        "calificacion_promedio_tienda2 = tienda2['Calificación'].mean()\n",
        "calificacion_promedio_tienda3 = tienda3['Calificación'].mean()\n",
        "calificacion_promedio_tienda4 = tienda4['Calificación'].mean()\n",
        "\n",
        "# Crear gráfico de dispersión\n",
        "costo_envio_promedio = [costo_envio_promedio_tienda1, costo_envio_promedio_tienda2, costo_envio_promedio_tienda3, costo_envio_promedio_tienda4]\n",
        "calificacion_promedio = [calificacion_promedio_tienda1, calificacion_promedio_tienda2, calificacion_promedio_tienda3, calificacion_promedio_tienda4]\n",
        "\n",
        "plt.figure(figsize=(8, 6))\n",
        "plt.scatter(costo_envio_promedio, calificacion_promedio, color='green')\n",
        "plt.title('Costo de Envío vs Calificación Promedio por Tienda')\n",
        "plt.xlabel('Costo de Envío Promedio ($)')\n",
        "plt.ylabel('Calificación Promedio')\n",
        "for i, tienda in enumerate(tiendas):\n",
        "    plt.text(costo_envio_promedio[i] + 0.1, calificacion_promedio[i], tiendas[i], fontsize=12)\n",
        "\n",
        "plt.tight_layout()\n",
        "plt.show()\n"
      ],
      "metadata": {
        "colab": {
          "base_uri": "https://localhost:8080/",
          "height": 607
        },
        "id": "Iix4zSS-qNF4",
        "outputId": "ecde479f-21ae-4684-d879-1e8a2567c50e"
      },
      "execution_count": 47,
      "outputs": [
        {
          "output_type": "display_data",
          "data": {
            "text/plain": [
              "<Figure size 800x600 with 1 Axes>"
            ],
            "image/png": "[encoded data removed]"
          },
          "metadata": {}
        }
      ]
    },
    {
      "cell_type": "markdown",
      "source": [
        "###Distribución de Categorías de Productos"
      ],
      "metadata": {
        "id": "dyI2oY8zqSzc"
      }
    },
    {
      "cell_type": "code",
      "source": [
        "\n",
        "# URLs de los datos\n",
        "url1 = \"https://raw.githubusercontent.com/alura-es-cursos/challenge1-data-science-latam/refs/heads/main/base-de-datos-challenge1-latam/tienda_1%20.csv\"\n",
        "url2 = \"https://raw.githubusercontent.com/alura-es-cursos/challenge1-data-science-latam/refs/heads/main/base-de-datos-challenge1-latam/tienda_2.csv\"\n",
        "url3 = \"https://raw.githubusercontent.com/alura-es-cursos/challenge1-data-science-latam/refs/heads/main/base-de-datos-challenge1-latam/tienda_3.csv\"\n",
        "url4 = \"https://raw.githubusercontent.com/alura-es-cursos/challenge1-data-science-latam/refs/heads/main/base-de-datos-challenge1-latam/tienda_4.csv\"\n",
        "\n",
        "tienda = pd.read_csv(url1)\n",
        "tienda2 = pd.read_csv(url2)\n",
        "tienda3 = pd.read_csv(url3)\n",
        "tienda4 = pd.read_csv(url4)\n",
        "\n",
        "tienda.columns = tienda.columns.str.strip()\n",
        "tienda2.columns = tienda2.columns.str.strip()\n",
        "tienda3.columns = tienda3.columns.str.strip()\n",
        "tienda4.columns = tienda4.columns.str.strip()\n",
        "\n",
        "# Agrupar por categoría y contar las ventas por categoría en cada tienda\n",
        "categorias_tienda1 = tienda.groupby('Categoría del Producto').size().reset_index(name='Cantidad de ventas')\n",
        "\n",
        "# Crear gráfico de pastel para la distribución de categorías en Tienda 1\n",
        "plt.figure(figsize=(8, 6))\n",
        "plt.pie(categorias_tienda1['Cantidad de ventas'], labels=categorias_tienda1['Categoría del Producto'],\n",
        "        autopct='%1.1f%%', startangle=90,\n",
        "        colors=['#ff9999','#66b3ff','#99ff99','#ffcc99'])\n",
        "plt.title('Distribución de Categorías de Productos - Tienda 1')\n",
        "plt.axis('equal')  # Mantener forma circular\n",
        "plt.tight_layout()\n",
        "plt.show()"
      ],
      "metadata": {
        "colab": {
          "base_uri": "https://localhost:8080/",
          "height": 607
        },
        "id": "bb9e--TSWGOL",
        "outputId": "5e58b3c7-01f1-4750-aaec-169f33a7de70"
      },
      "execution_count": 48,
      "outputs": [
        {
          "output_type": "display_data",
          "data": {
            "text/plain": [
              "<Figure size 800x600 with 1 Axes>"
            ],
            "image/png": "[encoded data removed]"
          },
          "metadata": {}
        }
      ]
    },
    {
      "cell_type": "markdown",
      "source": [
        "#Informe de Análisis de Ventas de Tiendas\n",
        "\n",
        "##Introducción\n",
        "\n",
        "###Este informe tiene como objetivo proporcionar una recomendación al Sr. Juan sobre cuál tienda debería considerar para comenzar a vender, basándose en diversos factores de rendimiento. Para ello, hemos analizado los ingresos totales, las categorías de productos, las calificaciones promedio de los clientes y los costos de envío de las cuatro tiendas. A continuación, se presentan los hallazgos clave a partir de los datos, respaldados por visualizaciones.\n",
        "\n",
        "\n"
      ],
      "metadata": {
        "id": "BwsH8WiUXBjr"
      }
    },
    {
      "cell_type": "markdown",
      "source": [
        "##Desarrollo\n",
        "\n",
        "##1. Ingresos Totales por Tienda\n",
        "\n",
        "El análisis de los ingresos totales revela que:\n",
        "\n",
        "tienda 1: $1.150.880.400\n",
        "\n",
        "tienda 2: $1.116.343.500\n",
        "\n",
        "tienda 3: $1.098.019.600\n",
        "\n",
        "tienda 4: $1.038.375.700\n",
        "\n",
        "La Tienda 1 es la que genera los mayores ingresos totales, seguida por la Tienda 2, la Tienda 3 y la Tienda 4. Esto sugiere que la Tienda 1 tiene una mayor participación en el mercado y podría ser una buena opción si el Sr. Juan busca un volumen de ventas alto."
      ],
      "metadata": {
        "id": "vtCKnoocYCnh"
      }
    },
    {
      "cell_type": "markdown",
      "source": [
        "## 2. categorías de productos más y menos vendidas\n",
        "\n",
        "En general, la categoría \"Muebles\" es la más vendida en todas las tiendas, seguida de \"Artículos para el hogar\" o \"Instrumentos musicales\". Este patrón indica una tendencia de preferencia del público por productos de hogar.\n",
        "\n",
        "La tienda 3 presenta la mayor cantidad de ventas en la categoría \"Muebles\" (499 unidades), lo cual demuestra una fuerte demanda en ese segmento.\n",
        "\n",
        "La tienda 2 muestra también una diversidad con buena venta de \"Artículos para el hogar\".\n",
        "\n",
        "###Detalle:\n",
        "\n",
        "* Categorías más populares tienda 1:\n",
        "Categoría del Producto \"Muebles\" Cantidad de ventas 465\n",
        "Categoría del Producto \"Artículos para el hogar\"  Cantidad de ventas 171\n",
        "\n",
        "* Categorías más populares tienda 2:\n",
        "Categoría del Producto \"Muebles\" Cantidad de ventas 442\n",
        "Categoría del Producto \"Artículos para el hogar\"  Cantidad de ventas 181\n",
        "\n",
        "\n",
        "* Categorías más populares tienda 3:\n",
        "Categoría del Producto \"Muebles\" Cantidad de ventas 499\n",
        "Categoría del Producto \"Artículos para el hogar\" y \"Instrumentos musicales\" Cantidad de ventas 177\n",
        "\n",
        "* Categorías más populares tienda 4:\n",
        "Categoría del Producto \"Muebles\" Cantidad de ventas 480\n",
        "Categoría del Producto \"Instrumentos musicales\"  Cantidad de ventas 170"
      ],
      "metadata": {
        "id": "La1_KW0IhfYN"
      }
    },
    {
      "cell_type": "markdown",
      "source": [
        "## 3. calificaciones promedio de los clientes por tienda.\n",
        "\n",
        "Aunque la diferencia entre las calificaciones es leve, la tienda 3 destaca con la puntuación más alta (4.05), lo que refleja una mejor experiencia de compra y satisfacción del cliente.\n",
        "\n",
        "###Detalle:\n",
        "\n",
        "* Calificación promedio tienda 1: 3.98\n",
        "\n",
        "* Calificación promedio tienda 2: 4.04\n",
        "\n",
        "* Calificación promedio tienda 3: 4.05\n",
        "\n",
        "* Calificación promedio tienda 4: 4.00\n",
        "\n"
      ],
      "metadata": {
        "id": "eo8UL_TEa0Hf"
      }
    },
    {
      "cell_type": "markdown",
      "source": [
        "## 4. productos más y menos vendidos.\n",
        "\n",
        "La tienda 2 tiene el producto más vendido entre todas (65 unidades), lo que indica un producto estrella con alta demanda, lo cual podría ser una ventaja para posicionar nuevos productos relacionados.\n",
        "\n",
        "###Detalle:\n",
        "\n",
        "* Productos más vendidos tienda 1   Producto Armario Cantidad de ventas 60              \n",
        "\n",
        "* Productos menos vendidos tienda 1 Producto Auriculares con micrófono  Cantidad de ventas 33               \n",
        "\n",
        "* Productos más vendidos tienda 2  Producto Iniciando en programación Cantidad de ventas 65                    \n",
        "\n",
        "* Productos menos vendidos tienda 2 Producto Juego de mesa Cantidad de ventas 32              \n",
        "\n",
        "* Productos más vendidos tienda 3 Producto Kit de bancas  Cantidad de ventas 57                  \n",
        "\n",
        "* Productos menos vendidos tienda 3 Producto Bloques de construcción   Cantidad de ventas 35                 \n",
        "\n",
        "* Productos más vendidos tienda 4 Producto Cama box  Cantidad de ventas 62\n",
        "\n",
        "* Productos menos vendidos tienda 4 Producto Guitarra eléctrica  Cantidad de ventas 33\n",
        "\n",
        "* El producto mas vendido es el de la tienda 2 que corresponde a \"Iniciando en programación\" con una cantidad de 65\n",
        "\n",
        "* El producto menos vendido es el de la tienda 2 que corresponde a \"Juego de mesa\" con una cantidad de 32"
      ],
      "metadata": {
        "id": "qoKYXZb6bnA2"
      }
    },
    {
      "cell_type": "markdown",
      "source": [
        "## 5. El coste de envío promedio para cada tienda.\n",
        "\n",
        "La tienda 4 tiene el menor costo de envío, lo que podría traducirse en mayores márgenes de ganancia o precios más competitivos para el cliente final.\n",
        "\n",
        "###Detalle\n",
        "\n",
        "* Costo de envío promedio tienda 1: $26.018\n",
        "\n",
        "* Costo de envío promedio tienda 2: $25.216\n",
        "\n",
        "* Costo de envío promedio tienda 3: $24.805\n",
        "\n",
        "* Costo de envío promedio tienda 4: $23.459"
      ],
      "metadata": {
        "id": "q738JG9NecGb"
      }
    },
    {
      "cell_type": "markdown",
      "source": [
        "##Conclusión y Recomendación\n",
        "\n",
        "Después de evaluar todos los factores clave, recomendamos que el Sr. Juan venda sus productos en la Tienda 2. A continuación se detallan las razones que respaldan esta decisión:\n",
        "\n",
        "* Buen desempeño general: Aunque no lidera en todos los aspectos, la tienda 2 se mantiene en el segundo lugar en ingresos totales, mostrando un mercado robusto.\n",
        "\n",
        "* Mayor venta de producto individual: El producto Iniciando en programación alcanzó 65 unidades vendidas, lo cual es la cifra más alta entre todos los productos analizados, evidenciando una alta rotación y aceptación.\n",
        "\n",
        "* Excelente calificación de clientes: Con una puntuación de 4.04, la tienda 2 garantiza una buena experiencia al comprador, lo que puede generar confianza y fidelización.\n",
        "\n",
        "* Costo de envío competitivo: Aunque no es el más bajo, el costo de envío promedio es menor que en la tienda 1, lo que puede influir positivamente en la decisión de compra.\n",
        "\n"
      ],
      "metadata": {
        "id": "w6-4445dgi0X"
      }
    },
    {
      "cell_type": "markdown",
      "source": [
        "## Consideraciones Finales\n",
        "\n",
        "Si bien la tienda 1 posee mayores ingresos, también presenta desventajas como una calificación más baja (3.98) y el costo de envío más alto. Por otro lado, la tienda 3 tiene mejor calificación, pero menores ingresos y productos menos vendidos.\n",
        "\n",
        "La tienda 2 presenta un equilibrio sólido entre ingresos, satisfacción del cliente y volumen de ventas, lo cual la convierte en la opción más estratégica para el Sr. Juan."
      ],
      "metadata": {
        "id": "Jk2X6Gayg69s"
      }
    }
  ]
}